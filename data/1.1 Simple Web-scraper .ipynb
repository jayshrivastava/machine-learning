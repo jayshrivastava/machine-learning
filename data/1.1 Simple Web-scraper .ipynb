{
 "cells": [
  {
   "cell_type": "code",
   "execution_count": 4,
   "metadata": {},
   "outputs": [
    {
     "name": "stdout",
     "output_type": "stream",
     "text": [
      "<title>Google</title>\n"
     ]
    }
   ],
   "source": [
    "# Web scraping example using BeautifulSoup\n",
    "import urllib\n",
    "from bs4 import BeautifulSoup\n",
    "with urllib.request.urlopen(\"https://www.google.com\") as url:\n",
    "    r = url.read()\n",
    "soup = BeautifulSoup(r, \"html.parser\")\n",
    "title = soup.find(\"title\")\n",
    "print(title)\n"
   ]
  },
  {
   "cell_type": "code",
   "execution_count": null,
   "metadata": {},
   "outputs": [],
   "source": []
  }
 ],
 "metadata": {
  "kernelspec": {
   "display_name": "Python 3",
   "language": "python",
   "name": "python3"
  },
  "language_info": {
   "codemirror_mode": {
    "name": "ipython",
    "version": 3
   },
   "file_extension": ".py",
   "mimetype": "text/x-python",
   "name": "python",
   "nbconvert_exporter": "python",
   "pygments_lexer": "ipython3",
   "version": "3.6.6"
  }
 },
 "nbformat": 4,
 "nbformat_minor": 2
}
