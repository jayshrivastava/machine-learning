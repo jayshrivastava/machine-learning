{
 "cells": [
  {
   "cell_type": "code",
   "execution_count": 31,
   "metadata": {},
   "outputs": [
    {
     "name": "stdout",
     "output_type": "stream",
     "text": [
      "[12 15 18 21 24 27 30 33 36 39 42 45 48 51 54 57 60 63 66 69 72 75 78 81\n",
      " 84 87 90 93 96 99]\n",
      "10\n",
      "[[18 27 36 45 54]\n",
      " [63 72 81 90 99]]\n",
      "90\n",
      "[54 63]\n"
     ]
    }
   ],
   "source": [
    "import numpy as np\n",
    "\n",
    "#Create numpy array which has all number divisible by 3 between 10 and 100.\n",
    "a = np.arange(12,100,3)\n",
    "print(a)\n",
    "\n",
    "#Find How many numbers are divisible by 9\n",
    "filtered = a[a % 9==0]\n",
    "print(filtered.size)\n",
    "\n",
    "#Reshape above 1D array into 2D array.\n",
    "filtered2d = filtered.reshape(2,5)\n",
    "print(filtered2d)\n",
    "\n",
    "#Find Second largest value in above array.\n",
    "crunch = filtered2d.flatten()\n",
    "crunch.sort\n",
    "print(crunch[-2])\n",
    "\n",
    "#Find all value greater than 50 and less than 70\n",
    "f1 = crunch[crunch > 50]\n",
    "f2 = f1[f1 < 70]\n",
    "print(f2)\n"
   ]
  },
  {
   "cell_type": "code",
   "execution_count": null,
   "metadata": {},
   "outputs": [],
   "source": []
  },
  {
   "cell_type": "code",
   "execution_count": null,
   "metadata": {},
   "outputs": [],
   "source": []
  }
 ],
 "metadata": {
  "kernelspec": {
   "display_name": "Python 3",
   "language": "python",
   "name": "python3"
  },
  "language_info": {
   "codemirror_mode": {
    "name": "ipython",
    "version": 3
   },
   "file_extension": ".py",
   "mimetype": "text/x-python",
   "name": "python",
   "nbconvert_exporter": "python",
   "pygments_lexer": "ipython3",
   "version": "3.6.6"
  }
 },
 "nbformat": 4,
 "nbformat_minor": 2
}
